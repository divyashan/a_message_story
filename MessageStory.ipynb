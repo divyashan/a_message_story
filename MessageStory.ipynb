{
 "cells": [
  {
   "cell_type": "code",
   "execution_count": 7,
   "metadata": {},
   "outputs": [
    {
     "name": "stdout",
     "output_type": "stream",
     "text": [
      "The autoreload extension is already loaded. To reload it, use:\n",
      "  %reload_ext autoreload\n",
      "/Users/divyas/Downloads/facebook-divyashanmugam7/messages/inbox/BenjiLin_29VCVZhzjg\n"
     ]
    }
   ],
   "source": [
    "%load_ext autoreload\n",
    "%autoreload 2\n",
    "import os\n",
    "import numpy as np\n",
    "import pandas as pd\n",
    "import seaborn as sns\n",
    "import matplotlib.pyplot as plt\n",
    "from bs4 import BeautifulSoup\n",
    "\n",
    "from parse_utils import reaction_check, sticker_check, get_sentiment, map_to_month_no\n",
    "\n",
    "# Parse out important info\n",
    "threads_dir = \"/Users/divyas/Downloads/facebook-divyashanmugam7/messages/inbox\"\n",
    "sender1 = \"Divya Shanmugam\"\n",
    "sender2 = \"Benji Lin\"\n",
    "\n",
    "def get_message_files_path(threads_dir, sender2):\n",
    "    thread_names = os.listdir(threads_dir)\n",
    "    rel_thread_names = [thread_name for thread_name in thread_names if (sender2.replace(' ', '') in thread_name)]\n",
    "    rel_thread_sizes = [os.listdir(threads_dir + '/' + thread_name) for thread_name in rel_thread_names]\n",
    "    \n",
    "    thread_name = rel_thread_names[np.argsort(np.array(rel_thread_sizes))[-1]]\n",
    "    return threads_dir + '/' + thread_name\n",
    "\n",
    "message_files_path = get_message_files_path(threads_dir, sender2)\n",
    "print(message_files_path)\n",
    "message_files = [x for x in os.listdir(message_files_path) if 'message' in x]\n",
    "html_docs = [open(message_files_path + '/' + fname, 'r').read() for fname in message_files]\n",
    "soups = [BeautifulSoup(html_doc, 'html.parser') for html_doc in html_docs]"
   ]
  },
  {
   "cell_type": "code",
   "execution_count": 10,
   "metadata": {},
   "outputs": [],
   "source": [
    "message_divs = [] \n",
    "for soup in soups:\n",
    "    message_divs.extend(soup.findAll(\"div\", {\"class\": \"uiBoxWhite\"}))"
   ]
  },
  {
   "cell_type": "code",
   "execution_count": 15,
   "metadata": {},
   "outputs": [
    {
     "name": "stdout",
     "output_type": "stream",
     "text": [
      "The autoreload extension is already loaded. To reload it, use:\n",
      "  %reload_ext autoreload\n"
     ]
    }
   ],
   "source": [
    "all_messages = []\n",
    "for message in message_divs:\n",
    "    children = message.findAll('div', recursive=False)\n",
    "    sender = children[0].text\n",
    "    msg = children[1].text\n",
    "    date_str = children[2].text\n",
    "    sticker = reaction_check(message)\n",
    "    reac = \"\"\n",
    "    if sender1 in msg:\n",
    "        # Reaction from me\n",
    "        n_ignore = len(sender1)\n",
    "        reac = msg[-n_ignore-1:-n_ignore]\n",
    "        msg = msg[:-n_ignore-1]\n",
    "    \n",
    "    if sender2 in msg:\n",
    "        # Reaction from other person \n",
    "        n_ignore = len(sender2)\n",
    "        reac = msg[-n_ignore-1:-n_ignore]\n",
    "        msg = msg[:-n_ignore-1]\n",
    "        \n",
    "    all_messages.append({'sender': sender, \n",
    "                         'message': msg, \n",
    "                         'date_str': date_str,\n",
    "                         'sticker': sticker,\n",
    "                         'reaction': reac,})\n",
    "all_df = pd.DataFrame(all_messages)\n",
    "all_df['polarity'] = all_df['message'].apply(get_sentiment)\n",
    "all_df['month_no'] = all_df['date_str'].apply(map_to_month_no)\n",
    "all_df['msg_length'] = all_df['message'].apply(len)\n",
    "divya = all_df[all_df['sender'] == sender1]\n",
    "karthik = all_df[all_df['sender'] == sender2]"
   ]
  },
  {
   "cell_type": "code",
   "execution_count": 16,
   "metadata": {},
   "outputs": [],
   "source": [
    "def date_str_to_month_year_str(date_str): \n",
    "    year = date_str.split(' ')[2][:-1]\n",
    "    month = date_str.split(' ')[0]\n",
    "    month_year_str = date_str.split(' ')[0] + ' ' + year\n",
    "    return month_year_str\n",
    "\n",
    "def date_str_to_month_year_no(date_str):\n",
    "    month_no_map = {'Jan': 1, 'Feb':2, 'Mar':3, 'Apr':4, 'May':5, 'Jun':6, 'Jul':7, \n",
    "                    'Aug':8, 'Sep':9, 'Oct':10, 'Nov':11, 'Dec':12}\n",
    "    year = int(date_str.split(' ')[2][:-1])*100\n",
    "    month = month_no_map[date_str.split(' ')[0]]\n",
    "    month_year_no = year + month\n",
    "    return month_year_no\n",
    "\n",
    "all_df['month_year_no'] = all_df['date_str'].apply(date_str_to_month_year_no)\n",
    "all_df['month_year_str'] = all_df['date_str'].apply(date_str_to_month_year_str)"
   ]
  },
  {
   "cell_type": "markdown",
   "metadata": {},
   "source": [
    "# Message counts"
   ]
  },
  {
   "cell_type": "code",
   "execution_count": 22,
   "metadata": {},
   "outputs": [
    {
     "name": "stdout",
     "output_type": "stream",
     "text": [
      "# of messages:  159544\n"
     ]
    },
    {
     "data": {
      "text/plain": [
       "(array([ 0,  1,  2,  3,  4,  5,  6,  7,  8,  9, 10, 11, 12, 13, 14, 15, 16,\n",
       "        17, 18, 19, 20, 21, 22, 23, 24, 25, 26, 27, 28, 29, 30, 31, 32, 33,\n",
       "        34, 35, 36, 37, 38, 39, 40, 41, 42, 43, 44, 45, 46, 47, 48, 49, 50,\n",
       "        51, 52, 53, 54, 55, 56, 57, 58, 59, 60, 61, 62, 63, 64, 65, 66, 67,\n",
       "        68, 69, 70, 71, 72, 73, 74, 75]),\n",
       " <a list of 76 Text xticklabel objects>)"
      ]
     },
     "execution_count": 22,
     "metadata": {},
     "output_type": "execute_result"
    },
    {
     "data": {
      "image/png": "[encoded data removed]",
      "text/plain": [
       "<Figure size 1080x216 with 1 Axes>"
      ]
     },
     "metadata": {
      "needs_background": "light"
     },
     "output_type": "display_data"
    }
   ],
   "source": [
    "print(\"# of messages: \" ,len(message_divs))\n",
    "fig, _ = plt.subplots(figsize=(15, 3))\n",
    "sns.countplot(x='month_year_no', data=all_df)\n",
    "plt.xticks(rotation='vertical')\n"
   ]
  },
  {
   "cell_type": "code",
   "execution_count": 24,
   "metadata": {},
   "outputs": [
    {
     "name": "stdout",
     "output_type": "stream",
     "text": [
      "Sent by  Divya Shanmugam :  84460\n",
      "Sent by  Benji Lin :  75084\n"
     ]
    },
    {
     "data": {
      "text/plain": [
       "(array([ 0,  1,  2,  3,  4,  5,  6,  7,  8,  9, 10, 11, 12, 13, 14, 15, 16,\n",
       "        17, 18, 19, 20, 21, 22, 23, 24, 25, 26, 27, 28, 29, 30, 31, 32, 33,\n",
       "        34, 35, 36, 37, 38, 39, 40, 41, 42, 43, 44, 45, 46, 47, 48, 49, 50,\n",
       "        51, 52, 53, 54, 55, 56, 57, 58, 59, 60, 61, 62, 63, 64, 65, 66, 67,\n",
       "        68, 69, 70, 71, 72, 73, 74, 75]),\n",
       " <a list of 76 Text xticklabel objects>)"
      ]
     },
     "execution_count": 24,
     "metadata": {},
     "output_type": "execute_result"
    },
    {
     "data": {
      "image/png": "[encoded data removed]",
      "text/plain": [
       "<Figure size 1080x216 with 1 Axes>"
      ]
     },
     "metadata": {
      "needs_background": "light"
     },
     "output_type": "display_data"
    }
   ],
   "source": [
    "# person specific 2messages\n",
    "print(\"Sent by \", sender1, \": \", len(all_df[all_df['sender'] == sender1]))\n",
    "print(\"Sent by \", sender2, \": \", len(all_df[all_df['sender'] == sender2]))\n",
    "fig, _ = plt.subplots(figsize=(15, 3))\n",
    "sns.countplot(x='month_year_no', hue='sender', data=all_df)\n",
    "plt.xticks(rotation='vertical')\n"
   ]
  },
  {
   "cell_type": "markdown",
   "metadata": {},
   "source": [
    "# Message lengths"
   ]
  },
  {
   "cell_type": "code",
   "execution_count": 26,
   "metadata": {},
   "outputs": [
    {
     "data": {
      "text/plain": [
       "<matplotlib.legend.Legend at 0x12750e400>"
      ]
     },
     "execution_count": 26,
     "metadata": {},
     "output_type": "execute_result"
    },
    {
     "data": {
      "image/png": "[encoded data removed]",
      "text/plain": [
       "<Figure size 432x288 with 1 Axes>"
      ]
     },
     "metadata": {
      "needs_background": "light"
     },
     "output_type": "display_data"
    }
   ],
   "source": [
    "# Message length\n",
    "divya_lens = [x for x in divya['msg_length'] if x < 300]\n",
    "karthik_lens = [x for x in karthik['msg_length'] if x < 300]\n",
    "plt.hist(karthik_lens, alpha=.5, bins=10, range=(0, 200), label=\"benji\")\n",
    "plt.hist(divya_lens, alpha=.5, bins=10, range=(0, 200), label=\"divya\")\n",
    "plt.legend()"
   ]
  },
  {
   "cell_type": "code",
   "execution_count": 27,
   "metadata": {},
   "outputs": [
    {
     "data": {
      "text/plain": [
       "({'👍': 4, '👎': 0, '😆': 22, '😍': 9, '😠': 3, '😢': 9, '😮': 14},\n",
       " {'👍': 0, '👎': 1, '😆': 12, '😍': 37, '😠': 2, '😢': 6, '😮': 12})"
      ]
     },
     "execution_count": 27,
     "metadata": {},
     "output_type": "execute_result"
    }
   ],
   "source": [
    "# Histogram of the reactions for each of us\n",
    "def get_react_frequency(msg_df):\n",
    "    reacs = ['👍', '👎', '😆', '😍', '😠', '😢', '😮']\n",
    "    react_list = np.array(list(msg_df[msg_df['reaction'] != \"\"]['reaction']))\n",
    "    freq_dict = {}\n",
    "    for reac in reacs:\n",
    "        freq_dict[reac] = len(np.where(react_list == reac)[0])\n",
    "    return freq_dict\n",
    "\n",
    "divya_react_freq = get_react_frequency(divya)\n",
    "karthik_react_freq = get_react_frequency(karthik)\n",
    "divya_react_freq, karthik_react_freq"
   ]
  },
  {
   "cell_type": "markdown",
   "metadata": {},
   "source": [
    "# Sentiment Analysis"
   ]
  },
  {
   "cell_type": "code",
   "execution_count": 31,
   "metadata": {},
   "outputs": [],
   "source": [
    "# sentiment analysis\n",
    "from textblob import TextBlob\n",
    "def get_sentiment(msg):\n",
    "    return TextBlob(msg).sentiment.polarity\n",
    "all_df['polarity'] = all_df['message'].apply(get_sentiment)"
   ]
  },
  {
   "cell_type": "code",
   "execution_count": 51,
   "metadata": {},
   "outputs": [
    {
     "name": "stdout",
     "output_type": "stream",
     "text": [
      "Karthik avg sentiment polarity:  0.0860451408351917\n",
      "Divya avg sentiment polarity:  0.06924089525810243\n"
     ]
    },
    {
     "data": {
      "image/png": "[encoded data removed]",
      "text/plain": [
       "<Figure size 432x288 with 1 Axes>"
      ]
     },
     "metadata": {
      "needs_background": "light"
     },
     "output_type": "display_data"
    }
   ],
   "source": [
    "import numpy as np\n",
    "divya_sentiment = all_df[all_df['sender'] == sender1]\n",
    "karthik_sentiment = all_df[all_df['sender'] == sender2]\n",
    "plt.hist(karthik_sentiment['polarity'], range=(-1, 1), bins=20, alpha=.5)\n",
    "plt.hist(divya_sentiment['polarity'], range=(-1, 1), bins=20, alpha=.5)\n",
    "#sns.distplot(x='polarity', hue='sender', data=all_df)\n",
    "print('Karthik avg sentiment polarity: ', np.mean(karthik_sentiment['polarity']))\n",
    "print('Divya avg sentiment polarity: ', np.mean(divya_sentiment['polarity']),)"
   ]
  },
  {
   "cell_type": "markdown",
   "metadata": {},
   "source": [
    "# Word counts"
   ]
  },
  {
   "cell_type": "code",
   "execution_count": 107,
   "metadata": {},
   "outputs": [
    {
     "name": "stdout",
     "output_type": "stream",
     "text": [
      "Chettiar:  22 8\n",
      "Devakottai:  1 0\n",
      "Nachiapuram:  2 0\n",
      "India:  53 27\n",
      "Tamil:  24 14\n",
      "\n",
      "Family:  42 9\n",
      "Friends:  93 131\n",
      "\n",
      "Lololol:  424 156\n",
      "Haha:  20 129\n",
      "Lmao:  1 184\n",
      "Lel:  49 7\n",
      "\n",
      "Cute:  1 5\n",
      "Chill:  38 80\n"
     ]
    }
   ],
   "source": [
    "divya_messages = ' '.join(list(divya['message'])).lower()\n",
    "karthik_messages = ' '.join(list(karthik['message'])).lower()\n",
    "\n",
    "print(\"Chettiar: \", divya_messages.count('chettiar'), karthik_messages.count('chettiar'))\n",
    "print(\"Devakottai: \", divya_messages.count('devakottai'), karthik_messages.count('devakottai'))\n",
    "print(\"Nachiapuram: \", divya_messages.count('nachiapuram'), karthik_messages.count('nachiapuram'))\n",
    "print(\"India: \", divya_messages.count('india'), karthik_messages.count('india'))\n",
    "print(\"Tamil: \", divya_messages.count('tamil'), karthik_messages.count('tamil'))\n",
    "\n",
    "print()\n",
    "print(\"Family: \", divya_messages.count('family'), karthik_messages.count('family'))\n",
    "print(\"Friends: \", divya_messages.count('friend'), karthik_messages.count('friend'))\n",
    "\n",
    "print()\n",
    "print(\"Lololol: \", divya_messages.count('lololol'), karthik_messages.count('lololol'))\n",
    "print(\"Haha: \", divya_messages.count('haha'), karthik_messages.count('haha'))\n",
    "print(\"Lmao: \", divya_messages.count('lmao'), karthik_messages.count('lmao'))\n",
    "print(\"Lel: \", divya_messages.count(' lel '), karthik_messages.count(' lel '))\n",
    "\n",
    "print()\n",
    "print(\"Cute: \", divya_messages.count('cute'), karthik_messages.count('cute'))\n",
    "print(\"Chill: \", divya_messages.count('chill'), karthik_messages.count('chill'))\n",
    "\n",
    "# more chettiar, more family\n",
    "# more friends, more lmao, more cute\n"
   ]
  },
  {
   "cell_type": "code",
   "execution_count": 109,
   "metadata": {},
   "outputs": [],
   "source": [
    "from collections import Counter \n",
    "divya_msgs_split = divya_messages.split()\n",
    "divya_counts = Counter(divya_msgs_split)\n",
    "\n",
    "karthik_msgs_split = karthik_messages.split()\n",
    "karthik_counts = Counter(karthik_msgs_split)"
   ]
  },
  {
   "cell_type": "code",
   "execution_count": 6,
   "metadata": {},
   "outputs": [
    {
     "data": {
      "text/plain": [
       "'May 2014,'"
      ]
     },
     "execution_count": 6,
     "metadata": {},
     "output_type": "execute_result"
    }
   ],
   "source": [
    "date_str = message_divs[0].findAll('div', recursive=False)[2].text\n",
    "date_str.split(' ')[0] + ' ' + date_str.split(' ')[2][:-1]"
   ]
  },
  {
   "cell_type": "code",
   "execution_count": 115,
   "metadata": {},
   "outputs": [
    {
     "data": {
      "text/plain": [
       "[('the', 2220),\n",
       " ('i', 1932),\n",
       " ('to', 1583),\n",
       " ('a', 1401),\n",
       " ('u', 985),\n",
       " ('it', 957),\n",
       " ('and', 896),\n",
       " ('is', 872),\n",
       " ('like', 837),\n",
       " ('of', 805),\n",
       " ('so', 801),\n",
       " ('for', 801),\n",
       " ('but', 723),\n",
       " ('in', 702),\n",
       " ('was', 691),\n",
       " ('that', 676),\n",
       " ('yah', 671),\n",
       " ('not', 633),\n",
       " ('have', 575),\n",
       " ('my', 567),\n",
       " ('be', 540),\n",
       " ('you', 527),\n",
       " ('this', 476),\n",
       " ('will', 466),\n",
       " ('also', 447),\n",
       " ('on', 446),\n",
       " ('we', 444),\n",
       " ('at', 441),\n",
       " ('think', 407),\n",
       " ('do', 403),\n",
       " ('no', 393),\n",
       " ('just', 386),\n",
       " ('if', 381),\n",
       " ('good', 355),\n",
       " (\"it's\", 352),\n",
       " ('or', 350),\n",
       " ('what', 319),\n",
       " ('are', 314),\n",
       " ('about', 302),\n",
       " ('can', 297),\n",
       " ('would', 290),\n",
       " (\"i'm\", 286),\n",
       " (\"don't\", 272),\n",
       " ('one', 271),\n",
       " ('how', 271),\n",
       " ('get', 269),\n",
       " ('they', 254),\n",
       " ('maybe', 253),\n",
       " ('lol', 248),\n",
       " ('me', 247),\n",
       " ('time', 244),\n",
       " ('w', 241),\n",
       " ('up', 235),\n",
       " ('r', 233),\n",
       " ('more', 231),\n",
       " ('out', 228),\n",
       " ('your', 227),\n",
       " ('people', 210),\n",
       " ('did', 207),\n",
       " ('ur', 196),\n",
       " (\"that's\", 190),\n",
       " ('go', 190),\n",
       " ('know', 190),\n",
       " ('damn', 184),\n",
       " ('all', 184),\n",
       " ('when', 178),\n",
       " ('really', 177),\n",
       " ('there', 177),\n",
       " ('he', 176),\n",
       " ('see', 175),\n",
       " ('feel', 175),\n",
       " ('from', 171),\n",
       " ('an', 169),\n",
       " ('gonna', 168),\n",
       " ('need', 168),\n",
       " ('tho', 165),\n",
       " ('oh', 164),\n",
       " ('had', 164),\n",
       " ('work', 164),\n",
       " ('too', 160),\n",
       " ('lolol', 152),\n",
       " ('as', 152),\n",
       " ('then', 152),\n",
       " ('only', 148),\n",
       " ('some', 145),\n",
       " ('cause', 144),\n",
       " ('were', 142),\n",
       " ('going', 139),\n",
       " ('she', 139),\n",
       " ('lmao', 136),\n",
       " ('right', 136),\n",
       " ('back', 135),\n",
       " ('v', 135),\n",
       " ('now', 134),\n",
       " ('them', 131),\n",
       " ('still', 128),\n",
       " ('lololol', 127),\n",
       " ('got', 122),\n",
       " ('why', 121),\n",
       " ('am', 120)]"
      ]
     },
     "execution_count": 115,
     "metadata": {},
     "output_type": "execute_result"
    }
   ],
   "source": [
    "karthik_counts.most_common(100)"
   ]
  },
  {
   "cell_type": "code",
   "execution_count": null,
   "metadata": {},
   "outputs": [],
   "source": []
  }
 ],
 "metadata": {
  "kernelspec": {
   "display_name": "Python 3",
   "language": "python",
   "name": "python3"
  },
  "language_info": {
   "codemirror_mode": {
    "name": "ipython",
    "version": 3
   },
   "file_extension": ".py",
   "mimetype": "text/x-python",
   "name": "python",
   "nbconvert_exporter": "python",
   "pygments_lexer": "ipython3",
   "version": "3.5.6"
  }
 },
 "nbformat": 4,
 "nbformat_minor": 2
}
